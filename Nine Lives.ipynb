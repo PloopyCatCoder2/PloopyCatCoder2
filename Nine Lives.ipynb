{
 "cells": [
  {
   "cell_type": "code",
   "execution_count": 1,
   "metadata": {},
   "outputs": [
    {
     "name": "stdout",
     "output_type": "stream",
     "text": [
      "['?', '?', '?', '?', '?']\n",
      "You have 9 lives left\n",
      "❤❤❤❤❤❤❤❤❤\n"
     ]
    },
    {
     "ename": "IndexError",
     "evalue": "string index out of range",
     "output_type": "error",
     "traceback": [
      "\u001b[0;31m---------------------------------------------------------------------------\u001b[0m",
      "\u001b[0;31mIndexError\u001b[0m                                Traceback (most recent call last)",
      "\u001b[1;32m/Users/helen/Documents/helen/For fun/python/Untitled.ipynb Cell 1'\u001b[0m in \u001b[0;36m<module>\u001b[0;34m\u001b[0m\n\u001b[1;32m     <a href='vscode-notebook-cell:/Users/helen/Documents/helen/For%20fun/python/Untitled.ipynb#ch0000000?line=20'>21</a>\u001b[0m guess \u001b[39m=\u001b[39m \u001b[39minput\u001b[39m(\u001b[39m\"\u001b[39m\u001b[39mGuess a letter or the whole words: \u001b[39m\u001b[39m\"\u001b[39m)\n\u001b[1;32m     <a href='vscode-notebook-cell:/Users/helen/Documents/helen/For%20fun/python/Untitled.ipynb#ch0000000?line=21'>22</a>\u001b[0m \u001b[39mif\u001b[39;00m guess \u001b[39min\u001b[39;00m secret_word:\n\u001b[0;32m---> <a href='vscode-notebook-cell:/Users/helen/Documents/helen/For%20fun/python/Untitled.ipynb#ch0000000?line=22'>23</a>\u001b[0m     update_clue(\u001b[39m'\u001b[39;49m\u001b[39mguessed_letter\u001b[39;49m\u001b[39m'\u001b[39;49m, \u001b[39m'\u001b[39;49m\u001b[39msecret_word\u001b[39;49m\u001b[39m'\u001b[39;49m, \u001b[39m'\u001b[39;49m\u001b[39mclue\u001b[39;49m\u001b[39m'\u001b[39;49m)\n\u001b[1;32m     <a href='vscode-notebook-cell:/Users/helen/Documents/helen/For%20fun/python/Untitled.ipynb#ch0000000?line=23'>24</a>\u001b[0m \u001b[39melif\u001b[39;00m guess \u001b[39m==\u001b[39m secret_word:\n\u001b[1;32m     <a href='vscode-notebook-cell:/Users/helen/Documents/helen/For%20fun/python/Untitled.ipynb#ch0000000?line=24'>25</a>\u001b[0m      \u001b[39mprint\u001b[39m(\u001b[39m\"\u001b[39m\u001b[39mCorrect!\u001b[39m\u001b[39m\"\u001b[39m)\n",
      "\u001b[1;32m/Users/helen/Documents/helen/For fun/python/Untitled.ipynb Cell 1'\u001b[0m in \u001b[0;36mupdate_clue\u001b[0;34m(guessed_letter, secret_word, clue)\u001b[0m\n\u001b[1;32m     <a href='vscode-notebook-cell:/Users/helen/Documents/helen/For%20fun/python/Untitled.ipynb#ch0000000?line=10'>11</a>\u001b[0m index \u001b[39m=\u001b[39m \u001b[39m0\u001b[39m\n\u001b[1;32m     <a href='vscode-notebook-cell:/Users/helen/Documents/helen/For%20fun/python/Untitled.ipynb#ch0000000?line=11'>12</a>\u001b[0m \u001b[39mwhile\u001b[39;00m index \u001b[39m<\u001b[39m \u001b[39mlen\u001b[39m(guessed_letter):\n\u001b[0;32m---> <a href='vscode-notebook-cell:/Users/helen/Documents/helen/For%20fun/python/Untitled.ipynb#ch0000000?line=12'>13</a>\u001b[0m     \u001b[39mif\u001b[39;00m guessed_letter \u001b[39m==\u001b[39m secret_word[index]:\n\u001b[1;32m     <a href='vscode-notebook-cell:/Users/helen/Documents/helen/For%20fun/python/Untitled.ipynb#ch0000000?line=13'>14</a>\u001b[0m         clue[index] \u001b[39m=\u001b[39m guessed_letter\n\u001b[1;32m     <a href='vscode-notebook-cell:/Users/helen/Documents/helen/For%20fun/python/Untitled.ipynb#ch0000000?line=14'>15</a>\u001b[0m     index \u001b[39m=\u001b[39m index \u001b[39m+\u001b[39m \u001b[39m1\u001b[39m\n",
      "\u001b[0;31mIndexError\u001b[0m: string index out of range"
     ]
    }
   ],
   "source": [
    "import random\n",
    "index = 0\n",
    "guessed_letter = 0\n",
    "heart_symbol = u'\\u2764'\n",
    "lives = 9\n",
    "words = ['pizza', 'fairy', 'tooth', 'teeth,' 'otter', 'plane', 'shirt', 'adult']\n",
    "secret_word = random.choice(words)\n",
    "clue = list('?????')\n",
    "guessed_word_correct = False\n",
    "def update_clue (guessed_letter, secret_word, clue):\n",
    "    index = 0\n",
    "    while index < len(secret_word):\n",
    "        if guessed_letter == secret_word[index]:\n",
    "            clue[index] = guess\n",
    "        index = index + 1\n",
    "while lives > 0 and index < 5:\n",
    "    print(clue)\n",
    "    print('Lives left: ' + heart_symbol * lives)\n",
    "    guess = input(\"Guess a letter or the whole words: \")\n",
    "\n",
    "    if guess == secret_word:\n",
    "        guessed_word_correct = True\n",
    "        break\n",
    "\n",
    "    if guess in secret_word:\n",
    "        update_clue(guessed_letter, secret_word, clue)\n",
    "        print(\"Correct!\")\n",
    "    else:\n",
    "        print('Incorrect. you lose a life')\n",
    "        lives = lives - 1\n",
    "if guessed_word_correct:\n",
    "    print(\"Congrats. You won. The secret word was \" + secret_word)\n",
    "else:\n",
    "    print(\"Sorry. You lost. The words was\" + secret_word)\n",
    "\n"
   ]
  }
 ],
 "metadata": {
  "kernelspec": {
   "display_name": "Python 3",
   "language": "python",
   "name": "python3"
  },
  "language_info": {
   "codemirror_mode": {
    "name": "ipython",
    "version": 3
   },
   "file_extension": ".py",
   "mimetype": "text/x-python",
   "name": "python",
   "nbconvert_exporter": "python",
   "pygments_lexer": "ipython3",
   "version": "3.9.5"
  }
 },
 "nbformat": 4,
 "nbformat_minor": 4
}
