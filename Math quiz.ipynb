{
 "cells": [
  {
   "cell_type": "code",
   "execution_count": 4,
   "metadata": {},
   "outputs": [
    {
     "name": "stdout",
     "output_type": "stream",
     "text": [
      "Hello Helen\n",
      "Let's do a math quiz.\n",
      "Correct! 1 + 1 = 2.\n",
      "Wrong. The answer is 4.\n",
      "Let's subtract now.\n",
      "Correct! 10 - 5 = 5.\n",
      "Wrong. The answer is 75.\n",
      "Time for multiplication.\n",
      "Correct. 10 * 1 = 10.\n",
      "Correct! 25 * 2 = 50.\n",
      "Congratulations! You finished the test.\n",
      "Your score is\n"
     ]
    }
   ],
   "source": [
    "score = 0\n",
    "name = input(\"Hello. What is your name?\")\n",
    "print(\"Hello\", name)\n",
    "print(\"Let's do a math quiz.\")\n",
    "add1 = float(input(\"What is 1 + 1?\"))\n",
    "if add1 == 2:\n",
    "    print(\"Correct! 1 + 1 = 2.\")\n",
    "    score = score + 1\n",
    "else:\n",
    "    print(\"Wrong. The answer is 2.\")\n",
    "add2 = float(input(\"What is 2 + 2?\"))\n",
    "if add2 == 4:\n",
    "    print(\"Correct! 2 + 2 = 4.\")\n",
    "    score = score + 1\n",
    "else:\n",
    "    print(\"Wrong. The answer is 4.\")\n",
    "print(\"Let's subtract now.\")\n",
    "subtract1 = float(input(\"What is 10 - 5?\"))\n",
    "if subtract1 == 5:\n",
    "    print(\"Correct! 10 - 5 = 5.\")\n",
    "    score = score + 1\n",
    "subract2 = int(input(\"What is 100 - 25?\"))\n",
    "if subract2 == 75:\n",
    "    print(\"Correct! 100 - 25 = 75.\")\n",
    "    score = score + 1\n",
    "else:\n",
    "    print(\"Wrong. The answer is 75.\")\n",
    "print(\"Time for multiplication.\")\n",
    "multiply1 = int(input(\"What is 10 times 1?\"))\n",
    "if multiply1 == 10:\n",
    "    print(\"Correct. 10 * 1 = 10.\")\n",
    "    score = score + 1\n",
    "else:\n",
    "    print(\"Wrong. 10 * 1 = 10.\")\n",
    "multiply2 = int(input(\"What is 2 * 25?\"))\n",
    "if multiply2 == 50:\n",
    "    print(\"Correct! 25 * 2 = 50.\")\n",
    "    score = score + 1\n",
    "else:\n",
    "    print(\"Wrong. 25 * 2 = 50.\")\n",
    "print(\"Congratulations! You finished the test.\")\n",
    "print(\"Your score is\", score)"
   ]
  }
 ],
 "metadata": {
  "interpreter": {
   "hash": "aee8b7b246df8f9039afb4144a1f6fd8d2ca17a180786b69acc140d282b71a49"
  },
  "kernelspec": {
   "display_name": "Python 3.9.5 64-bit",
   "language": "python",
   "name": "python3"
  },
  "language_info": {
   "codemirror_mode": {
    "name": "ipython",
    "version": 3
   },
   "file_extension": ".py",
   "mimetype": "text/x-python",
   "name": "python",
   "nbconvert_exporter": "python",
   "pygments_lexer": "ipython3",
   "version": "3.9.5"
  },
  "orig_nbformat": 4
 },
 "nbformat": 4,
 "nbformat_minor": 2
}
