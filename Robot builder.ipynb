{
 "cells": [
  {
   "cell_type": "code",
   "execution_count": 6,
   "metadata": {},
   "outputs": [
    {
     "ename": "ModuleNotFoundError",
     "evalue": "No module named '_tkinter'",
     "output_type": "error",
     "traceback": [
      "\u001b[0;31m---------------------------------------------------------------------------\u001b[0m",
      "\u001b[0;31mModuleNotFoundError\u001b[0m                       Traceback (most recent call last)",
      "\u001b[1;32mUntitled-1.ipynb Cell 1'\u001b[0m in \u001b[0;36m<module>\u001b[0;34m\u001b[0m\n\u001b[0;32m----> <a href='vscode-notebook-cell:Untitled-1.ipynb?jupyter-notebook#ch0000000untitled?line=0'>1</a>\u001b[0m \u001b[39mimport\u001b[39;00m \u001b[39mturtle\u001b[39;00m \u001b[39mas\u001b[39;00m \u001b[39mt\u001b[39;00m\n\u001b[1;32m      <a href='vscode-notebook-cell:Untitled-1.ipynb?jupyter-notebook#ch0000000untitled?line=1'>2</a>\u001b[0m t\u001b[39m.\u001b[39mpenup\n\u001b[1;32m      <a href='vscode-notebook-cell:Untitled-1.ipynb?jupyter-notebook#ch0000000untitled?line=2'>3</a>\u001b[0m t\u001b[39m.\u001b[39mspeed(\u001b[39m'\u001b[39m\u001b[39mslow\u001b[39m\u001b[39m'\u001b[39m)\n",
      "File \u001b[0;32m/usr/local/Cellar/python@3.9/3.9.5/Frameworks/Python.framework/Versions/3.9/lib/python3.9/turtle.py:107\u001b[0m, in \u001b[0;36m<module>\u001b[0;34m\u001b[0m\n\u001b[1;32m    <a href='file:///usr/local/Cellar/python%403.9/3.9.5/Frameworks/Python.framework/Versions/3.9/lib/python3.9/turtle.py?line=102'>103</a>\u001b[0m _ver \u001b[39m=\u001b[39m \u001b[39m\"\u001b[39m\u001b[39mturtle 1.1b- - for Python 3.1   -  4. 5. 2009\u001b[39m\u001b[39m\"\u001b[39m\n\u001b[1;32m    <a href='file:///usr/local/Cellar/python%403.9/3.9.5/Frameworks/Python.framework/Versions/3.9/lib/python3.9/turtle.py?line=104'>105</a>\u001b[0m \u001b[39m# print(_ver)\u001b[39;00m\n\u001b[0;32m--> <a href='file:///usr/local/Cellar/python%403.9/3.9.5/Frameworks/Python.framework/Versions/3.9/lib/python3.9/turtle.py?line=106'>107</a>\u001b[0m \u001b[39mimport\u001b[39;00m \u001b[39mtkinter\u001b[39;00m \u001b[39mas\u001b[39;00m \u001b[39mTK\u001b[39;00m\n\u001b[1;32m    <a href='file:///usr/local/Cellar/python%403.9/3.9.5/Frameworks/Python.framework/Versions/3.9/lib/python3.9/turtle.py?line=107'>108</a>\u001b[0m \u001b[39mimport\u001b[39;00m \u001b[39mtypes\u001b[39;00m\n\u001b[1;32m    <a href='file:///usr/local/Cellar/python%403.9/3.9.5/Frameworks/Python.framework/Versions/3.9/lib/python3.9/turtle.py?line=108'>109</a>\u001b[0m \u001b[39mimport\u001b[39;00m \u001b[39mmath\u001b[39;00m\n",
      "File \u001b[0;32m/usr/local/Cellar/python@3.9/3.9.5/Frameworks/Python.framework/Versions/3.9/lib/python3.9/tkinter/__init__.py:37\u001b[0m, in \u001b[0;36m<module>\u001b[0;34m\u001b[0m\n\u001b[1;32m     <a href='file:///usr/local/Cellar/python%403.9/3.9.5/Frameworks/Python.framework/Versions/3.9/lib/python3.9/tkinter/__init__.py?line=33'>34</a>\u001b[0m \u001b[39mimport\u001b[39;00m \u001b[39msys\u001b[39;00m\n\u001b[1;32m     <a href='file:///usr/local/Cellar/python%403.9/3.9.5/Frameworks/Python.framework/Versions/3.9/lib/python3.9/tkinter/__init__.py?line=34'>35</a>\u001b[0m \u001b[39mimport\u001b[39;00m \u001b[39mtypes\u001b[39;00m\n\u001b[0;32m---> <a href='file:///usr/local/Cellar/python%403.9/3.9.5/Frameworks/Python.framework/Versions/3.9/lib/python3.9/tkinter/__init__.py?line=36'>37</a>\u001b[0m \u001b[39mimport\u001b[39;00m \u001b[39m_tkinter\u001b[39;00m \u001b[39m# If this fails your Python may not be configured for Tk\u001b[39;00m\n\u001b[1;32m     <a href='file:///usr/local/Cellar/python%403.9/3.9.5/Frameworks/Python.framework/Versions/3.9/lib/python3.9/tkinter/__init__.py?line=37'>38</a>\u001b[0m TclError \u001b[39m=\u001b[39m _tkinter\u001b[39m.\u001b[39mTclError\n\u001b[1;32m     <a href='file:///usr/local/Cellar/python%403.9/3.9.5/Frameworks/Python.framework/Versions/3.9/lib/python3.9/tkinter/__init__.py?line=38'>39</a>\u001b[0m \u001b[39mfrom\u001b[39;00m \u001b[39mtkinter\u001b[39;00m\u001b[39m.\u001b[39;00m\u001b[39mconstants\u001b[39;00m \u001b[39mimport\u001b[39;00m \u001b[39m*\u001b[39m\n",
      "\u001b[0;31mModuleNotFoundError\u001b[0m: No module named '_tkinter'"
     ]
    }
   ],
   "source": [
    "import turtle as t\n",
    "t.penup\n",
    "t.speed('slow')\n",
    "t.bgcolor('Dodger blue')\n",
    "def rectangle (horizontal, vertical, color):\n",
    "    t.pendown\n",
    "    t.pensize\n",
    "    t.color(color)\n",
    "    t.begin_fill()\n",
    "    for counter in range (1, 3):\n",
    "        t.forward(horizontal)\n",
    "        t.right(90)\n",
    "        t.forward (vertical)\n",
    "        t. right(90)\n",
    "    t.end_fill\n",
    "    t.penup\n",
    "#feet\n",
    "t.goto(-100, -150)\n",
    "rectangle(50, 20, 'black')\n",
    "t.goto(-30, -150)\n",
    "rectangle(50, 20, 'black')\n",
    "\n",
    "#legs\n",
    "t.goto(-25, -50)\n",
    "rectangle(15, 100, 'blue')\n",
    "t.goto(-55, -50)\n",
    "rectangle(-15, 100, 'blue')\n",
    "\n",
    "#body\n",
    "t.goto(-90, 100)\n",
    "rectangle(100, 150, 'green')\n",
    "\n",
    "#arms\n",
    "\n",
    "#right arm\n",
    "t.goto(-150, 70)\n",
    "rectangle(60, 15, 'blue')\n",
    "t.goto(-150, 110)\n",
    "rectangle(15, 40, 'blue')\n",
    "\n",
    "#left arm\n",
    "t.goto(10, 70)\n",
    "rectangle(60, 15, 'blue')\n",
    "t.goto(55, 110)\n",
    "rectangle(15, 40, 'blue')\n",
    "\n",
    "#neck\n",
    "t.goto(-50, 120)\n",
    "rectangle(15, 20, 'blue')\n",
    "\n",
    "#head\n",
    "t.goto(-85, 170)\n",
    "rectangle(80, 50, 'green')\n"
   ]
  }
 ],
 "metadata": {
  "interpreter": {
   "hash": "aee8b7b246df8f9039afb4144a1f6fd8d2ca17a180786b69acc140d282b71a49"
  },
  "kernelspec": {
   "display_name": "Python 3.9.5 64-bit",
   "language": "python",
   "name": "python3"
  },
  "language_info": {
   "codemirror_mode": {
    "name": "ipython",
    "version": 3
   },
   "file_extension": ".py",
   "mimetype": "text/x-python",
   "name": "python",
   "nbconvert_exporter": "python",
   "pygments_lexer": "ipython3",
   "version": "3.9.5"
  },
  "orig_nbformat": 4
 },
 "nbformat": 4,
 "nbformat_minor": 2
}
