{
 "cells": [
  {
   "cell_type": "code",
   "execution_count": 2,
   "metadata": {},
   "outputs": [
    {
     "name": "stdout",
     "output_type": "stream",
     "text": [
      "ANIMAL QUIZ\n",
      "Correct!\n",
      "Oops. The answer was cheetah\n",
      "Correct!\n",
      "Congratulations!\n",
      "You completed the quiz\n",
      "Your score was 2\n"
     ]
    }
   ],
   "source": [
    "print(\"ANIMAL QUIZ\")\n",
    "guess1 = input(\"What is the animal that lives at the north pole?\")\n",
    "still_guessing = True\n",
    "score = 0\n",
    "attempt = 0\n",
    "answer1 = 'polar bear'\n",
    "while still_guessing and attempt < 3:\n",
    "    if guess1.lower() == answer1.lower():\n",
    "        print(\"Correct!\")\n",
    "        score = score + 1\n",
    "        still_guessing = False\n",
    "    else:\n",
    "        if attempt < 2 and still_guessing:\n",
    "            guess1 = input(\"Sorry wrong answer. Try again.\")\n",
    "    attempt = attempt + 1\n",
    "if attempt == 3:\n",
    "    print(\"Oops. The answer was\", answer1)\n",
    "answer2 = 'cheetah'\n",
    "guess2 = input(\"What is the fastest animal?\")\n",
    "attempt = 0\n",
    "still_guessing = True\n",
    "while still_guessing and attempt < 3:\n",
    "    if guess2.lower() == answer2.lower():\n",
    "        print(\"Correct\")\n",
    "        score = score + 1\n",
    "        still_guessing = False\n",
    "    else:\n",
    "        if attempt < 2 and still_guessing:\n",
    "            guess1 = input(\"Sorry wrong answer. Try again.\")\n",
    "    attempt = attempt + 1\n",
    "if attempt == 3:\n",
    "    print(\"Oops. The answer was\", answer2)\n",
    "guess3 = input(\"What is the largest animal?\")\n",
    "still_guessing = True\n",
    "attempt = 0\n",
    "answer3 = 'Blue Whale'\n",
    "while still_guessing and attempt < 3:\n",
    "    if guess3.lower() == answer3.lower():\n",
    "        print(\"Correct!\")\n",
    "        score = score + 1\n",
    "        still_guessing = False\n",
    "    else:\n",
    "        if attempt < 2 and still_guessing:\n",
    "            guess3 = input(\"Wrong answer. Try again.\")\n",
    "    attempt = attempt + 1\n",
    "if attempt == 3:\n",
    "    print(\"Oops. The answer was\", answer3)\n",
    "still_guessing = False\n",
    "print(\"Congratulations!\")\n",
    "print(\"You completed the quiz\")\n",
    "print(\"Your score was\", score)"
   ]
  }
 ],
 "metadata": {
  "interpreter": {
   "hash": "aee8b7b246df8f9039afb4144a1f6fd8d2ca17a180786b69acc140d282b71a49"
  },
  "kernelspec": {
   "display_name": "Python 3.9.5 64-bit",
   "language": "python",
   "name": "python3"
  },
  "language_info": {
   "codemirror_mode": {
    "name": "ipython",
    "version": 3
   },
   "file_extension": ".py",
   "mimetype": "text/x-python",
   "name": "python",
   "nbconvert_exporter": "python",
   "pygments_lexer": "ipython3",
   "version": "3.9.5"
  },
  "orig_nbformat": 4
 },
 "nbformat": 4,
 "nbformat_minor": 2
}
